{
 "cells": [
  {
   "cell_type": "markdown",
   "id": "654f525a",
   "metadata": {
    "papermill": {
     "duration": 0.003516,
     "end_time": "2025-01-28T03:55:23.850622",
     "exception": false,
     "start_time": "2025-01-28T03:55:23.847106",
     "status": "completed"
    },
    "tags": []
   },
   "source": [
    "# Easy way for train test validation split of folders with images\n",
    "`split_folders` is a Python library that provides a simple way to split a dataset into separate training, validation, and testing sets. It can be used to automatically split a folder of images into separate folders for each of these sets. <br>\n",
    "This library takes as input a directory containing the original dataset, and the desired split ratio between the training, validation, and testing sets. The library then creates subdirectories for each set and moves the images into these subdirectories based on the specified ratio."
   ]
  },
  {
   "cell_type": "markdown",
   "id": "db2b8bfe",
   "metadata": {
    "papermill": {
     "duration": 0.002257,
     "end_time": "2025-01-28T03:55:23.855586",
     "exception": false,
     "start_time": "2025-01-28T03:55:23.853329",
     "status": "completed"
    },
    "tags": []
   },
   "source": [
    "# How to install it?\n",
    "`pip install split-folders`"
   ]
  },
  {
   "cell_type": "code",
   "execution_count": 1,
   "id": "b01c3580",
   "metadata": {
    "execution": {
     "iopub.execute_input": "2025-01-28T03:55:23.862212Z",
     "iopub.status.busy": "2025-01-28T03:55:23.861795Z",
     "iopub.status.idle": "2025-01-28T03:55:34.839273Z",
     "shell.execute_reply": "2025-01-28T03:55:34.837643Z"
    },
    "papermill": {
     "duration": 10.984367,
     "end_time": "2025-01-28T03:55:34.842482",
     "exception": false,
     "start_time": "2025-01-28T03:55:23.858115",
     "status": "completed"
    },
    "tags": []
   },
   "outputs": [
    {
     "name": "stdout",
     "output_type": "stream",
     "text": [
      "Collecting split-folders\r\n",
      "  Downloading split_folders-0.5.1-py3-none-any.whl (8.4 kB)\r\n",
      "Installing collected packages: split-folders\r\n",
      "Successfully installed split-folders-0.5.1\r\n",
      "\u001b[33mWARNING: Running pip as the 'root' user can result in broken permissions and conflicting behaviour with the system package manager. It is recommended to use a virtual environment instead: https://pip.pypa.io/warnings/venv\u001b[0m\u001b[33m\r\n",
      "\u001b[0mNote: you may need to restart the kernel to use updated packages.\n"
     ]
    }
   ],
   "source": [
    "pip install split-folders"
   ]
  },
  {
   "cell_type": "markdown",
   "id": "9062ef7d",
   "metadata": {
    "papermill": {
     "duration": 0.004388,
     "end_time": "2025-01-28T03:55:34.851995",
     "exception": false,
     "start_time": "2025-01-28T03:55:34.847607",
     "status": "completed"
    },
    "tags": []
   },
   "source": [
    "# Before train test split"
   ]
  },
  {
   "cell_type": "markdown",
   "id": "7d3971a3",
   "metadata": {
    "papermill": {
     "duration": 0.00261,
     "end_time": "2025-01-28T03:55:34.858769",
     "exception": false,
     "start_time": "2025-01-28T03:55:34.856159",
     "status": "completed"
    },
    "tags": []
   },
   "source": [
    "<img src = \"https://drive.google.com/uc?id=1zxHFGXGo9fsj5KvUQJrDVn7KPXVu_u3i\">"
   ]
  },
  {
   "cell_type": "markdown",
   "id": "4ccb3136",
   "metadata": {
    "papermill": {
     "duration": 0.002374,
     "end_time": "2025-01-28T03:55:34.863920",
     "exception": false,
     "start_time": "2025-01-28T03:55:34.861546",
     "status": "completed"
    },
    "tags": []
   },
   "source": [
    "# After splitting\n",
    "<img src = \"https://drive.google.com/uc?id=17a0mu7gIQfBKtKFnKOQuH57xjAyaPPQi\">"
   ]
  },
  {
   "cell_type": "markdown",
   "id": "72f52cc0",
   "metadata": {
    "papermill": {
     "duration": 0.002422,
     "end_time": "2025-01-28T03:55:34.868959",
     "exception": false,
     "start_time": "2025-01-28T03:55:34.866537",
     "status": "completed"
    },
    "tags": []
   },
   "source": [
    "# Inspect the base directory\n",
    "We can see it has 6 folders. These are the 6 classes. If we try to create a train, test and validation set manually that will be a very tedious task. We can automate this process. Let's see how?"
   ]
  },
  {
   "cell_type": "markdown",
   "id": "904e3ea8",
   "metadata": {
    "papermill": {
     "duration": 0.002331,
     "end_time": "2025-01-28T03:55:34.873801",
     "exception": false,
     "start_time": "2025-01-28T03:55:34.871470",
     "status": "completed"
    },
    "tags": []
   },
   "source": [
    "# Split\n",
    "`path` this is the base directory.\n",
    "Inside it there are 6 folders which are the classes .\n",
    "These classes will be splitted into `train`, `validation`, and `test` folders\n",
    "ratio=(.6, .2, .2) will create three folders called train, test, val.\n",
    "`output=\"Chess-Splitted\"` this is the folder where all the files will be copied.\n",
    "If don't use any value for output there will be a folder called `output`."
   ]
  },
  {
   "cell_type": "code",
   "execution_count": 2,
   "id": "3041bbce",
   "metadata": {
    "execution": {
     "iopub.execute_input": "2025-01-28T03:55:34.881690Z",
     "iopub.status.busy": "2025-01-28T03:55:34.880597Z",
     "iopub.status.idle": "2025-01-28T04:06:04.872213Z",
     "shell.execute_reply": "2025-01-28T04:06:04.870935Z"
    },
    "papermill": {
     "duration": 630.286179,
     "end_time": "2025-01-28T04:06:05.162505",
     "exception": false,
     "start_time": "2025-01-28T03:55:34.876326",
     "status": "completed"
    },
    "tags": []
   },
   "outputs": [
    {
     "name": "stderr",
     "output_type": "stream",
     "text": [
      "Copying files: 41793 files [08:33, 81.40 files/s] \n"
     ]
    },
    {
     "data": {
      "text/html": [
       "<a href='/kaggle/working/splitted_Data.zip' target='_blank'>/kaggle/working/splitted_Data.zip</a><br>"
      ],
      "text/plain": [
       "/kaggle/working/splitted_Data.zip"
      ]
     },
     "execution_count": 2,
     "metadata": {},
     "output_type": "execute_result"
    }
   ],
   "source": [
    "import splitfolders\n",
    "import shutil\n",
    "from IPython.display import FileLink\n",
    "\n",
    "# Define the paths\n",
    "data_dir = '/kaggle/input/driver-drowsiness-dataset-ddd/Driver Drowsiness Dataset (DDD)'  # Input dataset folder\n",
    "output_dir = '/kaggle/working/splitted_Data'  # Folder to save the split data\n",
    "zip_file_path = '/kaggle/working/splitted_Data.zip'  # Path for the zip file\n",
    "\n",
    "# Split the dataset\n",
    "splitfolders.ratio(data_dir, output=output_dir, seed=1337, ratio=(0.8, 0.15, 0.05))  # Adjust ratio as needed\n",
    "\n",
    "# Zip the output directory\n",
    "shutil.make_archive(output_dir, 'zip', output_dir)\n",
    "\n",
    "# Provide a download link for the zip file\n",
    "FileLink(zip_file_path)\n"
   ]
  },
  {
   "cell_type": "code",
   "execution_count": null,
   "id": "6498c084",
   "metadata": {
    "papermill": {
     "duration": 0.164878,
     "end_time": "2025-01-28T04:06:05.493232",
     "exception": false,
     "start_time": "2025-01-28T04:06:05.328354",
     "status": "completed"
    },
    "tags": []
   },
   "outputs": [],
   "source": []
  }
 ],
 "metadata": {
  "kaggle": {
   "accelerator": "none",
   "dataSources": [
    {
     "datasetId": 2195166,
     "sourceId": 3667213,
     "sourceType": "datasetVersion"
    }
   ],
   "dockerImageVersionId": 30407,
   "isGpuEnabled": false,
   "isInternetEnabled": true,
   "language": "python",
   "sourceType": "notebook"
  },
  "kernelspec": {
   "display_name": "Python 3",
   "language": "python",
   "name": "python3"
  },
  "language_info": {
   "codemirror_mode": {
    "name": "ipython",
    "version": 3
   },
   "file_extension": ".py",
   "mimetype": "text/x-python",
   "name": "python",
   "nbconvert_exporter": "python",
   "pygments_lexer": "ipython3",
   "version": "3.7.12"
  },
  "papermill": {
   "default_parameters": {},
   "duration": 652.956816,
   "end_time": "2025-01-28T04:06:06.382364",
   "environment_variables": {},
   "exception": null,
   "input_path": "__notebook__.ipynb",
   "output_path": "__notebook__.ipynb",
   "parameters": {},
   "start_time": "2025-01-28T03:55:13.425548",
   "version": "2.4.0"
  }
 },
 "nbformat": 4,
 "nbformat_minor": 5
}
