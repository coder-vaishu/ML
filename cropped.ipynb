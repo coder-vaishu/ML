{
 "cells": [
  {
   "cell_type": "code",
   "execution_count": 1,
   "id": "ca01faae",
   "metadata": {
    "_cell_guid": "b1076dfc-b9ad-4769-8c92-a6c4dae69d19",
    "_uuid": "8f2839f25d086af736a60e9eeb907d3b93b6e0e5",
    "execution": {
     "iopub.execute_input": "2025-01-25T17:05:29.309152Z",
     "iopub.status.busy": "2025-01-25T17:05:29.308794Z",
     "iopub.status.idle": "2025-01-25T17:05:29.314373Z",
     "shell.execute_reply": "2025-01-25T17:05:29.313358Z"
    },
    "papermill": {
     "duration": 0.01096,
     "end_time": "2025-01-25T17:05:29.315996",
     "exception": false,
     "start_time": "2025-01-25T17:05:29.305036",
     "status": "completed"
    },
    "tags": []
   },
   "outputs": [],
   "source": [
    "import os"
   ]
  },
  {
   "cell_type": "code",
   "execution_count": 2,
   "id": "78529b32",
   "metadata": {
    "execution": {
     "iopub.execute_input": "2025-01-25T17:05:29.321389Z",
     "iopub.status.busy": "2025-01-25T17:05:29.321091Z",
     "iopub.status.idle": "2025-01-25T17:05:29.324821Z",
     "shell.execute_reply": "2025-01-25T17:05:29.323882Z"
    },
    "papermill": {
     "duration": 0.007781,
     "end_time": "2025-01-25T17:05:29.326282",
     "exception": false,
     "start_time": "2025-01-25T17:05:29.318501",
     "status": "completed"
    },
    "tags": []
   },
   "outputs": [],
   "source": [
    "INPUT_DIR = \"/kaggle/input/affectnet-fnal\""
   ]
  },
  {
   "cell_type": "code",
   "execution_count": 3,
   "id": "cec678d3",
   "metadata": {
    "execution": {
     "iopub.execute_input": "2025-01-25T17:05:29.331169Z",
     "iopub.status.busy": "2025-01-25T17:05:29.330866Z",
     "iopub.status.idle": "2025-01-25T17:05:29.338536Z",
     "shell.execute_reply": "2025-01-25T17:05:29.337536Z"
    },
    "papermill": {
     "duration": 0.011717,
     "end_time": "2025-01-25T17:05:29.340015",
     "exception": false,
     "start_time": "2025-01-25T17:05:29.328298",
     "status": "completed"
    },
    "tags": []
   },
   "outputs": [],
   "source": [
    "def analyze_dataset(dataset_dir):\n",
    "    \"\"\"\n",
    "    Analyze the dataset to calculate total images, maximum class count,\n",
    "    and how many more images are needed to balance the dataset.\n",
    "\n",
    "    Args:\n",
    "        dataset_dir (str): Path to the dataset directory.\n",
    "\n",
    "    Returns:\n",
    "        dict: A dictionary with the following keys:\n",
    "              - class_counts: Number of images per class.\n",
    "              - total_images: Total number of images in the dataset.\n",
    "              - max_class_count: Maximum number of images in a class.\n",
    "              - augment_needed: Number of augmentations needed per class to balance.\n",
    "    \"\"\"\n",
    "    class_dirs = [os.path.join(dataset_dir, d) for d in os.listdir(dataset_dir) if os.path.isdir(os.path.join(dataset_dir, d))]\n",
    "    class_counts = {}\n",
    "    augment_needed = {}\n",
    "\n",
    "    total_images = 0\n",
    "    max_class_count = 0\n",
    "\n",
    "    for class_dir in class_dirs:\n",
    "        class_name = os.path.basename(class_dir)\n",
    "        images = [f for f in os.listdir(class_dir) if f.endswith(('.jpg', '.png'))]\n",
    "        image_count = len(images)\n",
    "        class_counts[class_name] = image_count\n",
    "        total_images += image_count\n",
    "\n",
    "        if image_count > max_class_count:\n",
    "            max_class_count = image_count\n",
    "\n",
    "    # Calculate augmentations needed for each class\n",
    "    for class_name, count in class_counts.items():\n",
    "        augment_needed[class_name] = max_class_count - count\n",
    "\n",
    "    # Print summary\n",
    "    print(\"Dataset Analysis:\")\n",
    "    print(\"-----------------\")\n",
    "    for class_name, count in class_counts.items():\n",
    "        print(f\"Class '{class_name}': {count} images (Needs {augment_needed[class_name]} more to balance)\")\n",
    "    print(f\"\\nTotal images in dataset: {total_images}\")\n",
    "    print(f\"Largest class size: {max_class_count}\")\n",
    "    print(f\"Total augmentations needed: {sum(augment_needed.values())}\")\n",
    "\n",
    "    return {\n",
    "        \"class_counts\": class_counts,\n",
    "        \"total_images\": total_images,\n",
    "        \"max_class_count\": max_class_count,\n",
    "        \"augment_needed\": augment_needed,\n",
    "    }\n"
   ]
  },
  {
   "cell_type": "code",
   "execution_count": 4,
   "id": "75c181b1",
   "metadata": {
    "execution": {
     "iopub.execute_input": "2025-01-25T17:05:29.344778Z",
     "iopub.status.busy": "2025-01-25T17:05:29.344466Z",
     "iopub.status.idle": "2025-01-25T17:05:29.495677Z",
     "shell.execute_reply": "2025-01-25T17:05:29.494516Z"
    },
    "papermill": {
     "duration": 0.155566,
     "end_time": "2025-01-25T17:05:29.497610",
     "exception": false,
     "start_time": "2025-01-25T17:05:29.342044",
     "status": "completed"
    },
    "tags": []
   },
   "outputs": [
    {
     "name": "stdout",
     "output_type": "stream",
     "text": [
      "Analyzing Train dataset...\n",
      "Dataset Analysis:\n",
      "-----------------\n",
      "Class 'surprise': 1709 images (Needs 621 more to balance)\n",
      "Class 'fear': 1709 images (Needs 621 more to balance)\n",
      "Class 'neutral': 1846 images (Needs 484 more to balance)\n",
      "Class 'sad': 1709 images (Needs 621 more to balance)\n",
      "Class 'happy': 2330 images (Needs 0 more to balance)\n",
      "Class 'anger': 1709 images (Needs 621 more to balance)\n",
      "\n",
      "Total images in dataset: 11012\n",
      "Largest class size: 2330\n",
      "Total augmentations needed: 2968\n",
      "\n",
      "Analyzing Test dataset...\n",
      "Dataset Analysis:\n",
      "-----------------\n",
      "Class 'surprise': 742 images (Needs 250 more to balance)\n",
      "Class 'fear': 742 images (Needs 250 more to balance)\n",
      "Class 'neutral': 798 images (Needs 194 more to balance)\n",
      "Class 'sad': 802 images (Needs 190 more to balance)\n",
      "Class 'happy': 992 images (Needs 0 more to balance)\n",
      "Class 'anger': 742 images (Needs 250 more to balance)\n",
      "\n",
      "Total images in dataset: 4818\n",
      "Largest class size: 992\n",
      "Total augmentations needed: 1134\n"
     ]
    }
   ],
   "source": [
    "# Directory paths for Train and Test datasets\n",
    "train_dir = os.path.join(INPUT_DIR, \"Train\")\n",
    "test_dir = os.path.join(INPUT_DIR, \"Test\")\n",
    "\n",
    "print(\"Analyzing Train dataset...\")\n",
    "train_analysis = analyze_dataset(train_dir)\n",
    "\n",
    "print(\"\\nAnalyzing Test dataset...\")\n",
    "test_analysis = analyze_dataset(test_dir)\n"
   ]
  },
  {
   "cell_type": "code",
   "execution_count": null,
   "id": "cdd981f3",
   "metadata": {
    "papermill": {
     "duration": 0.00299,
     "end_time": "2025-01-25T17:05:29.502683",
     "exception": false,
     "start_time": "2025-01-25T17:05:29.499693",
     "status": "completed"
    },
    "tags": []
   },
   "outputs": [],
   "source": []
  }
 ],
 "metadata": {
  "kaggle": {
   "accelerator": "none",
   "dataSources": [
    {
     "datasetId": 6542500,
     "sourceId": 10572717,
     "sourceType": "datasetVersion"
    },
    {
     "datasetId": 6546039,
     "sourceId": 10577842,
     "sourceType": "datasetVersion"
    },
    {
     "datasetId": 6547005,
     "sourceId": 10579208,
     "sourceType": "datasetVersion"
    }
   ],
   "dockerImageVersionId": 30839,
   "isGpuEnabled": false,
   "isInternetEnabled": true,
   "language": "python",
   "sourceType": "notebook"
  },
  "kernelspec": {
   "display_name": "Python 3",
   "language": "python",
   "name": "python3"
  },
  "language_info": {
   "codemirror_mode": {
    "name": "ipython",
    "version": 3
   },
   "file_extension": ".py",
   "mimetype": "text/x-python",
   "name": "python",
   "nbconvert_exporter": "python",
   "pygments_lexer": "ipython3",
   "version": "3.10.12"
  },
  "papermill": {
   "default_parameters": {},
   "duration": 3.401236,
   "end_time": "2025-01-25T17:05:29.922844",
   "environment_variables": {},
   "exception": null,
   "input_path": "__notebook__.ipynb",
   "output_path": "__notebook__.ipynb",
   "parameters": {},
   "start_time": "2025-01-25T17:05:26.521608",
   "version": "2.6.0"
  }
 },
 "nbformat": 4,
 "nbformat_minor": 5
}
