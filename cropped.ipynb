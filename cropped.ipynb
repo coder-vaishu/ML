{
 "cells": [
  {
   "cell_type": "code",
   "execution_count": 1,
   "id": "78befcd4",
   "metadata": {
    "_cell_guid": "b1076dfc-b9ad-4769-8c92-a6c4dae69d19",
    "_uuid": "8f2839f25d086af736a60e9eeb907d3b93b6e0e5",
    "execution": {
     "iopub.execute_input": "2025-01-28T14:52:18.935645Z",
     "iopub.status.busy": "2025-01-28T14:52:18.935118Z",
     "iopub.status.idle": "2025-01-28T14:55:05.755024Z",
     "shell.execute_reply": "2025-01-28T14:55:05.753619Z"
    },
    "papermill": {
     "duration": 166.826224,
     "end_time": "2025-01-28T14:55:05.757922",
     "exception": false,
     "start_time": "2025-01-28T14:52:18.931698",
     "status": "completed"
    },
    "tags": []
   },
   "outputs": [
    {
     "name": "stdout",
     "output_type": "stream",
     "text": [
      "Train-test split completed! The zipped dataset is available at: /kaggle/working/final_dataset.zip\n"
     ]
    }
   ],
   "source": [
    "import os\n",
    "import shutil\n",
    "from sklearn.model_selection import train_test_split\n",
    "import zipfile\n",
    "\n",
    "# Define paths\n",
    "working_dir = os.getcwd()  # Current working directory\n",
    "dataset_dir = \"/kaggle/input/dfer-facial\"  # Source dataset folder\n",
    "final_output_dir = os.path.join(working_dir, \"final_dataset\", \"Train_Test\")\n",
    "zip_output_path = os.path.join(working_dir, \"final_dataset.zip\")  # Zipped file in Kaggle working\n",
    "\n",
    "# Parameters\n",
    "test_size = 0.2  # 20% test set\n",
    "\n",
    "# Create directories for train-test splits\n",
    "train_dir = os.path.join(final_output_dir, \"train\")\n",
    "test_dir = os.path.join(final_output_dir, \"test\")\n",
    "os.makedirs(train_dir, exist_ok=True)\n",
    "os.makedirs(test_dir, exist_ok=True)\n",
    "\n",
    "# List all classes (assuming dataset has subfolders for each class)\n",
    "classes = [d for d in os.listdir(dataset_dir) if os.path.isdir(os.path.join(dataset_dir, d))]\n",
    "\n",
    "# Perform train-test split for each class\n",
    "for cls in classes:\n",
    "    cls_path = os.path.join(dataset_dir, cls)\n",
    "    images = os.listdir(cls_path)\n",
    "    \n",
    "    # Split the images into train and test\n",
    "    train_images, test_images = train_test_split(images, test_size=test_size, random_state=42)\n",
    "    \n",
    "    # Create class directories in train and test folders\n",
    "    os.makedirs(os.path.join(train_dir, cls), exist_ok=True)\n",
    "    os.makedirs(os.path.join(test_dir, cls), exist_ok=True)\n",
    "    \n",
    "    # Move train images\n",
    "    for img in train_images:\n",
    "        src = os.path.join(cls_path, img)\n",
    "        dst = os.path.join(train_dir, cls, img)\n",
    "        shutil.copy(src, dst)  # Use shutil.move if you want to move instead of copy\n",
    "    \n",
    "    # Move test images\n",
    "    for img in test_images:\n",
    "        src = os.path.join(cls_path, img)\n",
    "        dst = os.path.join(test_dir, cls, img)\n",
    "        shutil.copy(src, dst)\n",
    "\n",
    "# Create a zip file of the final dataset\n",
    "with zipfile.ZipFile(zip_output_path, 'w', zipfile.ZIP_DEFLATED) as zipf:\n",
    "    for root, dirs, files in os.walk(final_output_dir):\n",
    "        for file in files:\n",
    "            file_path = os.path.join(root, file)\n",
    "            arcname = os.path.relpath(file_path, final_output_dir)  # Relative path for the zip\n",
    "            zipf.write(file_path, arcname)\n",
    "\n",
    "print(f\"Train-test split completed! The zipped dataset is available at: {zip_output_path}\")\n"
   ]
  }
 ],
 "metadata": {
  "kaggle": {
   "accelerator": "none",
   "dataSources": [
    {
     "datasetId": 6562231,
     "sourceId": 10601493,
     "sourceType": "datasetVersion"
    }
   ],
   "isGpuEnabled": false,
   "isInternetEnabled": true,
   "language": "python",
   "sourceType": "notebook"
  },
  "kernelspec": {
   "display_name": "Python 3",
   "language": "python",
   "name": "python3"
  },
  "language_info": {
   "codemirror_mode": {
    "name": "ipython",
    "version": 3
   },
   "file_extension": ".py",
   "mimetype": "text/x-python",
   "name": "python",
   "nbconvert_exporter": "python",
   "pygments_lexer": "ipython3",
   "version": "3.10.12"
  },
  "papermill": {
   "default_parameters": {},
   "duration": 170.31794,
   "end_time": "2025-01-28T14:55:06.380699",
   "environment_variables": {},
   "exception": null,
   "input_path": "__notebook__.ipynb",
   "output_path": "__notebook__.ipynb",
   "parameters": {},
   "start_time": "2025-01-28T14:52:16.062759",
   "version": "2.6.0"
  }
 },
 "nbformat": 4,
 "nbformat_minor": 5
}
