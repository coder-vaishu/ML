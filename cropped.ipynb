{
 "cells": [
  {
   "cell_type": "code",
   "execution_count": 1,
   "id": "e596c237",
   "metadata": {
    "_cell_guid": "b1076dfc-b9ad-4769-8c92-a6c4dae69d19",
    "_uuid": "8f2839f25d086af736a60e9eeb907d3b93b6e0e5",
    "execution": {
     "iopub.execute_input": "2025-01-25T17:07:10.893518Z",
     "iopub.status.busy": "2025-01-25T17:07:10.893194Z",
     "iopub.status.idle": "2025-01-25T17:07:18.597971Z",
     "shell.execute_reply": "2025-01-25T17:07:18.596715Z"
    },
    "papermill": {
     "duration": 7.711006,
     "end_time": "2025-01-25T17:07:18.599870",
     "exception": false,
     "start_time": "2025-01-25T17:07:10.888864",
     "status": "completed"
    },
    "tags": []
   },
   "outputs": [
    {
     "name": "stdout",
     "output_type": "stream",
     "text": [
      "Requirement already satisfied: albumentations in /usr/local/lib/python3.10/dist-packages (1.4.20)\r\n",
      "Collecting albumentations\r\n",
      "  Downloading albumentations-2.0.1-py3-none-any.whl.metadata (38 kB)\r\n",
      "Requirement already satisfied: numpy>=1.24.4 in /usr/local/lib/python3.10/dist-packages (from albumentations) (1.26.4)\r\n",
      "Requirement already satisfied: scipy>=1.10.0 in /usr/local/lib/python3.10/dist-packages (from albumentations) (1.13.1)\r\n",
      "Requirement already satisfied: PyYAML in /usr/local/lib/python3.10/dist-packages (from albumentations) (6.0.2)\r\n",
      "Requirement already satisfied: pydantic>=2.9.2 in /usr/local/lib/python3.10/dist-packages (from albumentations) (2.10.3)\r\n",
      "Collecting albucore==0.0.23 (from albumentations)\r\n",
      "  Downloading albucore-0.0.23-py3-none-any.whl.metadata (5.3 kB)\r\n",
      "Requirement already satisfied: opencv-python-headless>=4.9.0.80 in /usr/local/lib/python3.10/dist-packages (from albumentations) (4.10.0.84)\r\n",
      "Requirement already satisfied: stringzilla>=3.10.4 in /usr/local/lib/python3.10/dist-packages (from albucore==0.0.23->albumentations) (3.11.1)\r\n",
      "Collecting simsimd>=5.9.2 (from albucore==0.0.23->albumentations)\r\n",
      "  Downloading simsimd-6.2.1-cp310-cp310-manylinux_2_28_x86_64.whl.metadata (66 kB)\r\n",
      "\u001b[2K     \u001b[90m━━━━━━━━━━━━━━━━━━━━━━━━━━━━━━━━━━━━━━━━\u001b[0m \u001b[32m66.0/66.0 kB\u001b[0m \u001b[31m2.9 MB/s\u001b[0m eta \u001b[36m0:00:00\u001b[0m\r\n",
      "\u001b[?25hRequirement already satisfied: mkl_fft in /usr/local/lib/python3.10/dist-packages (from numpy>=1.24.4->albumentations) (1.3.8)\r\n",
      "Requirement already satisfied: mkl_random in /usr/local/lib/python3.10/dist-packages (from numpy>=1.24.4->albumentations) (1.2.4)\r\n",
      "Requirement already satisfied: mkl_umath in /usr/local/lib/python3.10/dist-packages (from numpy>=1.24.4->albumentations) (0.1.1)\r\n",
      "Requirement already satisfied: mkl in /usr/local/lib/python3.10/dist-packages (from numpy>=1.24.4->albumentations) (2025.0.1)\r\n",
      "Requirement already satisfied: tbb4py in /usr/local/lib/python3.10/dist-packages (from numpy>=1.24.4->albumentations) (2022.0.0)\r\n",
      "Requirement already satisfied: mkl-service in /usr/local/lib/python3.10/dist-packages (from numpy>=1.24.4->albumentations) (2.4.1)\r\n",
      "Requirement already satisfied: annotated-types>=0.6.0 in /usr/local/lib/python3.10/dist-packages (from pydantic>=2.9.2->albumentations) (0.7.0)\r\n",
      "Requirement already satisfied: pydantic-core==2.27.1 in /usr/local/lib/python3.10/dist-packages (from pydantic>=2.9.2->albumentations) (2.27.1)\r\n",
      "Requirement already satisfied: typing-extensions>=4.12.2 in /usr/local/lib/python3.10/dist-packages (from pydantic>=2.9.2->albumentations) (4.12.2)\r\n",
      "Requirement already satisfied: intel-openmp>=2024 in /usr/local/lib/python3.10/dist-packages (from mkl->numpy>=1.24.4->albumentations) (2024.2.0)\r\n",
      "Requirement already satisfied: tbb==2022.* in /usr/local/lib/python3.10/dist-packages (from mkl->numpy>=1.24.4->albumentations) (2022.0.0)\r\n",
      "Requirement already satisfied: tcmlib==1.* in /usr/local/lib/python3.10/dist-packages (from tbb==2022.*->mkl->numpy>=1.24.4->albumentations) (1.2.0)\r\n",
      "Requirement already satisfied: intel-cmplr-lib-rt in /usr/local/lib/python3.10/dist-packages (from mkl_umath->numpy>=1.24.4->albumentations) (2024.2.0)\r\n",
      "Requirement already satisfied: intel-cmplr-lib-ur==2024.2.0 in /usr/local/lib/python3.10/dist-packages (from intel-openmp>=2024->mkl->numpy>=1.24.4->albumentations) (2024.2.0)\r\n",
      "Downloading albumentations-2.0.1-py3-none-any.whl (276 kB)\r\n",
      "\u001b[2K   \u001b[90m━━━━━━━━━━━━━━━━━━━━━━━━━━━━━━━━━━━━━━━━\u001b[0m \u001b[32m276.8/276.8 kB\u001b[0m \u001b[31m7.4 MB/s\u001b[0m eta \u001b[36m0:00:00\u001b[0m\r\n",
      "\u001b[?25hDownloading albucore-0.0.23-py3-none-any.whl (14 kB)\r\n",
      "Downloading simsimd-6.2.1-cp310-cp310-manylinux_2_28_x86_64.whl (632 kB)\r\n",
      "\u001b[2K   \u001b[90m━━━━━━━━━━━━━━━━━━━━━━━━━━━━━━━━━━━━━━━━\u001b[0m \u001b[32m632.7/632.7 kB\u001b[0m \u001b[31m16.5 MB/s\u001b[0m eta \u001b[36m0:00:00\u001b[0m\r\n",
      "\u001b[?25hInstalling collected packages: simsimd, albucore, albumentations\r\n",
      "  Attempting uninstall: albucore\r\n",
      "    Found existing installation: albucore 0.0.19\r\n",
      "    Uninstalling albucore-0.0.19:\r\n",
      "      Successfully uninstalled albucore-0.0.19\r\n",
      "  Attempting uninstall: albumentations\r\n",
      "    Found existing installation: albumentations 1.4.20\r\n",
      "    Uninstalling albumentations-1.4.20:\r\n",
      "      Successfully uninstalled albumentations-1.4.20\r\n",
      "Successfully installed albucore-0.0.23 albumentations-2.0.1 simsimd-6.2.1\r\n"
     ]
    }
   ],
   "source": [
    "!pip install -U albumentations"
   ]
  },
  {
   "cell_type": "code",
   "execution_count": 2,
   "id": "cc233faf",
   "metadata": {
    "execution": {
     "iopub.execute_input": "2025-01-25T17:07:18.606974Z",
     "iopub.status.busy": "2025-01-25T17:07:18.606663Z",
     "iopub.status.idle": "2025-01-25T17:10:17.037769Z",
     "shell.execute_reply": "2025-01-25T17:10:17.036557Z"
    },
    "papermill": {
     "duration": 178.436389,
     "end_time": "2025-01-25T17:10:17.039928",
     "exception": false,
     "start_time": "2025-01-25T17:07:18.603539",
     "status": "completed"
    },
    "tags": []
   },
   "outputs": [
    {
     "name": "stderr",
     "output_type": "stream",
     "text": [
      "/usr/local/lib/python3.10/dist-packages/albumentations/core/validation.py:45: UserWarning: ShiftScaleRotate is a special case of Affine transform. Please use Affine transform instead.\n",
      "  original_init(self, **validated_kwargs)\n"
     ]
    },
    {
     "name": "stdout",
     "output_type": "stream",
     "text": [
      "Dataset balanced and saved as ZIP: /kaggle/working/final_balanced_dataset.zip\n"
     ]
    }
   ],
   "source": [
    "import os\n",
    "import shutil\n",
    "from albumentations import (\n",
    "    RandomBrightnessContrast,\n",
    "    ShiftScaleRotate,\n",
    "    GaussianBlur,\n",
    "    Compose,\n",
    "    HueSaturationValue\n",
    ")\n",
    "from PIL import Image, ImageOps\n",
    "import numpy as np\n",
    "from zipfile import ZipFile\n",
    "\n",
    "# Augmentation Pipeline\n",
    "augmentation_pipeline = Compose([\n",
    "    RandomBrightnessContrast(p=0.5),\n",
    "    GaussianBlur(blur_limit=(3, 5), p=0.3),\n",
    "    ShiftScaleRotate(shift_limit=0.05, scale_limit=0.02, rotate_limit=0, p=0.7),\n",
    "    HueSaturationValue(hue_shift_limit=10, sat_shift_limit=15, val_shift_limit=10, p=0.5)\n",
    "])\n",
    "\n",
    "# Ensure target size is the largest class size\n",
    "def get_largest_class_size(dataset_dir):\n",
    "    largest_size = 0\n",
    "    for class_name in os.listdir(dataset_dir):\n",
    "        class_dir = os.path.join(dataset_dir, class_name)\n",
    "        if os.path.isdir(class_dir):\n",
    "            largest_size = max(largest_size, len(os.listdir(class_dir)))\n",
    "    return largest_size\n",
    "\n",
    "# Balance classes\n",
    "def balance_classes(input_dir, output_dir, target_size):\n",
    "    for class_name in os.listdir(input_dir):\n",
    "        class_dir = os.path.join(input_dir, class_name)\n",
    "        output_class_dir = os.path.join(output_dir, class_name)\n",
    "        os.makedirs(output_class_dir, exist_ok=True)\n",
    "\n",
    "        if os.path.isdir(class_dir):\n",
    "            images = [f for f in os.listdir(class_dir) if f.endswith(('.jpg', '.png', '.jpeg'))]\n",
    "            # Copy existing images\n",
    "            for img_name in images:\n",
    "                shutil.copy(os.path.join(class_dir, img_name), os.path.join(output_class_dir, img_name))\n",
    "            # Augment if necessary\n",
    "            augment_needed = target_size - len(images)\n",
    "            for i in range(augment_needed):\n",
    "                img_name = images[i % len(images)]\n",
    "                img_path = os.path.join(class_dir, img_name)\n",
    "                img = Image.open(img_path)\n",
    "                flipped_img = ImageOps.mirror(img)  # Horizontal flip\n",
    "                augmented = augmentation_pipeline(image=np.array(flipped_img))['image']\n",
    "                augmented_img = Image.fromarray(augmented)\n",
    "                augmented_img.save(os.path.join(output_class_dir, f\"aug_{i}_{img_name}\"))\n",
    "\n",
    "# Compress final dataset\n",
    "def create_zip(output_dir, zip_path):\n",
    "    with ZipFile(zip_path, 'w') as zipf:\n",
    "        for root, _, files in os.walk(output_dir):\n",
    "            for file in files:\n",
    "                file_path = os.path.join(root, file)\n",
    "                arcname = os.path.relpath(file_path, output_dir)\n",
    "                zipf.write(file_path, arcname)\n",
    "\n",
    "# Main workflow\n",
    "def main():\n",
    "    INPUT_DIR = \"/kaggle/input/cropped-dataset-clean/cropped_dataset (())\"\n",
    "    OUTPUT_DIR = \"/kaggle/working/final_balanced_dataset\"\n",
    "    ZIP_FILE = \"/kaggle/working/final_balanced_dataset.zip\"\n",
    "\n",
    "    # Ensure target size is the largest class size\n",
    "    train_target_size = get_largest_class_size(os.path.join(INPUT_DIR, \"Train\"))\n",
    "    test_target_size = get_largest_class_size(os.path.join(INPUT_DIR, \"Test\"))\n",
    "\n",
    "    # Balance train and test sets\n",
    "    balance_classes(os.path.join(INPUT_DIR, \"Train\"), os.path.join(OUTPUT_DIR, \"Train\"), train_target_size)\n",
    "    balance_classes(os.path.join(INPUT_DIR, \"Test\"), os.path.join(OUTPUT_DIR, \"Test\"), test_target_size)\n",
    "\n",
    "    # Create a ZIP file\n",
    "    create_zip(OUTPUT_DIR, ZIP_FILE)\n",
    "    print(f\"Dataset balanced and saved as ZIP: {ZIP_FILE}\")\n",
    "\n",
    "if __name__ == \"__main__\":\n",
    "    main()\n"
   ]
  },
  {
   "cell_type": "code",
   "execution_count": null,
   "id": "4ef17f64",
   "metadata": {
    "papermill": {
     "duration": 0.001865,
     "end_time": "2025-01-25T17:10:17.043791",
     "exception": false,
     "start_time": "2025-01-25T17:10:17.041926",
     "status": "completed"
    },
    "tags": []
   },
   "outputs": [],
   "source": []
  }
 ],
 "metadata": {
  "kaggle": {
   "accelerator": "none",
   "dataSources": [
    {
     "datasetId": 6544992,
     "sourceId": 10576374,
     "sourceType": "datasetVersion"
    },
    {
     "datasetId": 6546039,
     "sourceId": 10577842,
     "sourceType": "datasetVersion"
    }
   ],
   "dockerImageVersionId": 30839,
   "isGpuEnabled": false,
   "isInternetEnabled": true,
   "language": "python",
   "sourceType": "notebook"
  },
  "kernelspec": {
   "display_name": "Python 3",
   "language": "python",
   "name": "python3"
  },
  "language_info": {
   "codemirror_mode": {
    "name": "ipython",
    "version": 3
   },
   "file_extension": ".py",
   "mimetype": "text/x-python",
   "name": "python",
   "nbconvert_exporter": "python",
   "pygments_lexer": "ipython3",
   "version": "3.10.12"
  },
  "papermill": {
   "default_parameters": {},
   "duration": 190.302942,
   "end_time": "2025-01-25T17:10:18.869910",
   "environment_variables": {},
   "exception": null,
   "input_path": "__notebook__.ipynb",
   "output_path": "__notebook__.ipynb",
   "parameters": {},
   "start_time": "2025-01-25T17:07:08.566968",
   "version": "2.6.0"
  }
 },
 "nbformat": 4,
 "nbformat_minor": 5
}
