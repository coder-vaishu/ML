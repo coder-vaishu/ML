{
 "cells": [
  {
   "cell_type": "code",
   "execution_count": 1,
   "id": "0393274f",
   "metadata": {
    "execution": {
     "iopub.execute_input": "2025-01-25T18:17:46.984789Z",
     "iopub.status.busy": "2025-01-25T18:17:46.984329Z",
     "iopub.status.idle": "2025-01-25T18:19:56.114694Z",
     "shell.execute_reply": "2025-01-25T18:19:56.113528Z"
    },
    "papermill": {
     "duration": 129.136077,
     "end_time": "2025-01-25T18:19:56.117206",
     "exception": false,
     "start_time": "2025-01-25T18:17:46.981129",
     "status": "completed"
    },
    "tags": []
   },
   "outputs": [
    {
     "name": "stdout",
     "output_type": "stream",
     "text": [
      "Processed class 'surprise': 793 training files, 199 testing files.\n",
      "Processed class 'fear': 793 training files, 199 testing files.\n",
      "Processed class 'neutral': 793 training files, 199 testing files.\n",
      "Processed class 'sad': 793 training files, 199 testing files.\n",
      "Processed class 'happy': 793 training files, 199 testing files.\n",
      "Processed class 'anger': 793 training files, 199 testing files.\n",
      "Processed class 'surprise': 1864 training files, 466 testing files.\n",
      "Processed class 'fear': 1864 training files, 466 testing files.\n",
      "Processed class 'neutral': 1864 training files, 466 testing files.\n",
      "Processed class 'sad': 1864 training files, 466 testing files.\n",
      "Processed class 'happy': 1864 training files, 466 testing files.\n",
      "Processed class 'anger': 1864 training files, 466 testing files.\n",
      "Dataset successfully zipped at /kaggle/working/dataset_split.zip\n",
      "Dataset successfully combined, split by class, and zipped!\n"
     ]
    }
   ],
   "source": [
    "import os\n",
    "import shutil\n",
    "import random\n",
    "import zipfile\n",
    "\n",
    "# Path to the dataset folder\n",
    "dataset_path = \"/kaggle/input/final-dataset\"  # Replace with the actual path\n",
    "output_path = \"/kaggle/working/output_dataset\"  # Output path for reorganized dataset\n",
    "zip_output_path = \"/kaggle/working/dataset_split.zip\"  # Path for the final zip file\n",
    "\n",
    "# Train-Test split ratio\n",
    "train_ratio = 0.8\n",
    "\n",
    "# Ensure output folders exist\n",
    "train_path = os.path.join(output_path, \"Train\")\n",
    "test_path = os.path.join(output_path, \"Test\")\n",
    "os.makedirs(train_path, exist_ok=True)\n",
    "os.makedirs(test_path, exist_ok=True)\n",
    "\n",
    "def combine_classes_and_split():\n",
    "    # Iterate through each class folder in the dataset\n",
    "    for main_folder in os.listdir(dataset_path):\n",
    "        main_folder_path = os.path.join(dataset_path, main_folder)\n",
    "        if not os.path.isdir(main_folder_path):\n",
    "            continue\n",
    "\n",
    "        for class_name in os.listdir(main_folder_path):\n",
    "            class_path = os.path.join(main_folder_path, class_name)\n",
    "            if not os.path.isdir(class_path):\n",
    "                continue\n",
    "\n",
    "            # Collect all files in this class\n",
    "            files = [os.path.join(class_path, f) for f in os.listdir(class_path) if os.path.isfile(os.path.join(class_path, f))]\n",
    "\n",
    "            # Shuffle files for randomness\n",
    "            random.shuffle(files)\n",
    "\n",
    "            # Split files into training and testing sets\n",
    "            split_index = int(len(files) * train_ratio)\n",
    "            train_files = files[:split_index]\n",
    "            test_files = files[split_index:]\n",
    "\n",
    "            # Organize training files\n",
    "            train_class_path = os.path.join(train_path, class_name)\n",
    "            os.makedirs(train_class_path, exist_ok=True)\n",
    "            for file in train_files:\n",
    "                shutil.copy(file, os.path.join(train_class_path, os.path.basename(file)))\n",
    "\n",
    "            # Organize testing files\n",
    "            test_class_path = os.path.join(test_path, class_name)\n",
    "            os.makedirs(test_class_path, exist_ok=True)\n",
    "            for file in test_files:\n",
    "                shutil.copy(file, os.path.join(test_class_path, os.path.basename(file)))\n",
    "\n",
    "            print(f\"Processed class '{class_name}': {len(train_files)} training files, {len(test_files)} testing files.\")\n",
    "\n",
    "def zip_dataset():\n",
    "    # Create a zip file of the dataset\n",
    "    with zipfile.ZipFile(zip_output_path, 'w', zipfile.ZIP_DEFLATED) as zipf:\n",
    "        for root, dirs, files in os.walk(output_path):\n",
    "            for file in files:\n",
    "                file_path = os.path.join(root, file)\n",
    "                arcname = os.path.relpath(file_path, output_path)\n",
    "                zipf.write(file_path, arcname)\n",
    "    print(f\"Dataset successfully zipped at {zip_output_path}\")\n",
    "\n",
    "# Run the process\n",
    "combine_classes_and_split()\n",
    "zip_dataset()\n",
    "\n",
    "print(\"Dataset successfully combined, split by class, and zipped!\")\n"
   ]
  },
  {
   "cell_type": "code",
   "execution_count": null,
   "id": "d8e11966",
   "metadata": {
    "papermill": {
     "duration": 0.00204,
     "end_time": "2025-01-25T18:19:56.121933",
     "exception": false,
     "start_time": "2025-01-25T18:19:56.119893",
     "status": "completed"
    },
    "tags": []
   },
   "outputs": [],
   "source": []
  }
 ],
 "metadata": {
  "kaggle": {
   "accelerator": "none",
   "dataSources": [
    {
     "datasetId": 6547346,
     "sourceId": 10579712,
     "sourceType": "datasetVersion"
    }
   ],
   "dockerImageVersionId": 30839,
   "isGpuEnabled": false,
   "isInternetEnabled": true,
   "language": "python",
   "sourceType": "notebook"
  },
  "kernelspec": {
   "display_name": "Python 3",
   "language": "python",
   "name": "python3"
  },
  "language_info": {
   "codemirror_mode": {
    "name": "ipython",
    "version": 3
   },
   "file_extension": ".py",
   "mimetype": "text/x-python",
   "name": "python",
   "nbconvert_exporter": "python",
   "pygments_lexer": "ipython3",
   "version": "3.10.12"
  },
  "papermill": {
   "default_parameters": {},
   "duration": 132.549782,
   "end_time": "2025-01-25T18:19:56.644595",
   "environment_variables": {},
   "exception": null,
   "input_path": "__notebook__.ipynb",
   "output_path": "__notebook__.ipynb",
   "parameters": {},
   "start_time": "2025-01-25T18:17:44.094813",
   "version": "2.6.0"
  }
 },
 "nbformat": 4,
 "nbformat_minor": 5
}
