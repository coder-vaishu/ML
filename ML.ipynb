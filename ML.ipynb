{
 "cells": [
  {
   "cell_type": "code",
   "execution_count": 1,
   "id": "6227510f",
   "metadata": {
    "execution": {
     "iopub.execute_input": "2025-01-25T19:27:38.761705Z",
     "iopub.status.busy": "2025-01-25T19:27:38.761329Z",
     "iopub.status.idle": "2025-01-25T19:29:10.840368Z",
     "shell.execute_reply": "2025-01-25T19:29:10.839307Z"
    },
    "papermill": {
     "duration": 92.084512,
     "end_time": "2025-01-25T19:29:10.842498",
     "exception": false,
     "start_time": "2025-01-25T19:27:38.757986",
     "status": "completed"
    },
    "tags": []
   },
   "outputs": [
    {
     "name": "stdout",
     "output_type": "stream",
     "text": [
      "Combined dataset saved as ZIP at: /kaggle/working/combined-dataset.zip\n"
     ]
    }
   ],
   "source": [
    "import os\n",
    "import shutil\n",
    "from zipfile import ZipFile\n",
    "\n",
    "# Define input and output paths\n",
    "input_path = '/kaggle/input/final-dataset'\n",
    "output_path = '/kaggle/working/combined-dataset'\n",
    "zip_output_path = '/kaggle/working/combined-dataset.zip'\n",
    "\n",
    "# Create output folders if they don't exist\n",
    "os.makedirs(output_path, exist_ok=True)\n",
    "\n",
    "# Define Train and Test folders\n",
    "folders = ['Train', 'Test']\n",
    "\n",
    "# Function to combine datasets based on classes\n",
    "def combine_datasets(input_path, output_path, folders):\n",
    "    for folder in folders:\n",
    "        input_folder_path = os.path.join(input_path, folder)\n",
    "        output_folder_path = os.path.join(output_path, folder)\n",
    "\n",
    "        # Ensure the output folder exists\n",
    "        os.makedirs(output_folder_path, exist_ok=True)\n",
    "\n",
    "        # Iterate through class folders in the Train/Test folder\n",
    "        for class_folder in os.listdir(input_folder_path):\n",
    "            class_input_path = os.path.join(input_folder_path, class_folder)\n",
    "\n",
    "            # Ensure the class folder exists in the output\n",
    "            class_output_path = os.path.join(output_folder_path, class_folder)\n",
    "            os.makedirs(class_output_path, exist_ok=True)\n",
    "\n",
    "            # Copy all files from the input class folder to the output class folder\n",
    "            for file in os.listdir(class_input_path):\n",
    "                src_file_path = os.path.join(class_input_path, file)\n",
    "                dst_file_path = os.path.join(class_output_path, file)\n",
    "\n",
    "                # Copy file if it doesn't already exist or overwrite if required\n",
    "                shutil.copy(src_file_path, dst_file_path)\n",
    "\n",
    "# Combine datasets\n",
    "combine_datasets(input_path, output_path, folders)\n",
    "\n",
    "# Create a ZIP file of the combined dataset\n",
    "with ZipFile(zip_output_path, 'w') as zipf:\n",
    "    for root, dirs, files in os.walk(output_path):\n",
    "        for file in files:\n",
    "            file_path = os.path.join(root, file)\n",
    "            arcname = os.path.relpath(file_path, output_path)  # Relative path for ZIP\n",
    "            zipf.write(file_path, arcname)\n",
    "\n",
    "print(f\"Combined dataset saved as ZIP at: {zip_output_path}\")\n"
   ]
  },
  {
   "cell_type": "code",
   "execution_count": null,
   "id": "77fe29b4",
   "metadata": {
    "papermill": {
     "duration": 0.001358,
     "end_time": "2025-01-25T19:29:10.847180",
     "exception": false,
     "start_time": "2025-01-25T19:29:10.845822",
     "status": "completed"
    },
    "tags": []
   },
   "outputs": [],
   "source": []
  }
 ],
 "metadata": {
  "kaggle": {
   "accelerator": "none",
   "dataSources": [
    {
     "datasetId": 6547346,
     "sourceId": 10579712,
     "sourceType": "datasetVersion"
    }
   ],
   "dockerImageVersionId": 30839,
   "isGpuEnabled": false,
   "isInternetEnabled": true,
   "language": "python",
   "sourceType": "notebook"
  },
  "kernelspec": {
   "display_name": "Python 3",
   "language": "python",
   "name": "python3"
  },
  "language_info": {
   "codemirror_mode": {
    "name": "ipython",
    "version": 3
   },
   "file_extension": ".py",
   "mimetype": "text/x-python",
   "name": "python",
   "nbconvert_exporter": "python",
   "pygments_lexer": "ipython3",
   "version": "3.10.12"
  },
  "papermill": {
   "default_parameters": {},
   "duration": 95.348002,
   "end_time": "2025-01-25T19:29:11.368336",
   "environment_variables": {},
   "exception": null,
   "input_path": "__notebook__.ipynb",
   "output_path": "__notebook__.ipynb",
   "parameters": {},
   "start_time": "2025-01-25T19:27:36.020334",
   "version": "2.6.0"
  }
 },
 "nbformat": 4,
 "nbformat_minor": 5
}
